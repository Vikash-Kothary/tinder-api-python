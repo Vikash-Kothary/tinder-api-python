{
 "cells": [
  {
   "cell_type": "markdown",
   "metadata": {},
   "source": [
    "# Example: View Profile"
   ]
  },
  {
   "cell_type": "code",
   "execution_count": null,
   "metadata": {},
   "outputs": [],
   "source": [
    "from datetime import date\n",
    "from IPython.display import Image, display\n",
    "import tinder_api"
   ]
  },
  {
   "cell_type": "code",
   "execution_count": null,
   "metadata": {},
   "outputs": [],
   "source": [
    "def calculate_age(birthday_string):\n",
    "    '''\n",
    "    Converts from '1997-03-25T22:49:41.151Z' to an integer (age)\n",
    "    '''\n",
    "    birthyear = int(birthday_string[:4])\n",
    "    birthmonth = int(birthday_string[5:7])\n",
    "    birthday = int(birthday_string[8:10])\n",
    "    today = date.today()\n",
    "    return today.year - birthyear - ((today.month, today.day) < (birthmonth, birthday))"
   ]
  },
  {
   "cell_type": "code",
   "execution_count": null,
   "metadata": {},
   "outputs": [],
   "source": [
    "username=''\n",
    "password=''"
   ]
  },
  {
   "cell_type": "code",
   "execution_count": null,
   "metadata": {},
   "outputs": [],
   "source": [
    "tinder = tinder_api.Client(username=username, password=password)"
   ]
  },
  {
   "cell_type": "code",
   "execution_count": null,
   "metadata": {
    "scrolled": false
   },
   "outputs": [],
   "source": [
    "my_profile = tinder.get_profile()\n",
    "my_profile"
   ]
  },
  {
   "cell_type": "code",
   "execution_count": null,
   "metadata": {},
   "outputs": [],
   "source": [
    "profile_id = my_profile.get('_id')\n",
    "profile_id"
   ]
  },
  {
   "cell_type": "code",
   "execution_count": null,
   "metadata": {},
   "outputs": [],
   "source": [
    "photos = []\n",
    "my_photos = my_profile.get('photos')\n",
    "for i in range(len(my_photos)):\n",
    "    photo_url = my_photos[i].get('processedFiles')[0].get('url')\n",
    "    success_rate = my_photos[i].get('successRate')\n",
    "    photos.append([photo_url, success_rate])\n",
    "photos"
   ]
  },
  {
   "cell_type": "code",
   "execution_count": null,
   "metadata": {},
   "outputs": [],
   "source": [
    "images = []\n",
    "for i in range(len(photos)):\n",
    "    images.append(Image(url=photos[i][0]))\n",
    "display(*images)"
   ]
  },
  {
   "cell_type": "code",
   "execution_count": null,
   "metadata": {},
   "outputs": [],
   "source": [
    "name = my_profile.get('name')\n",
    "name"
   ]
  },
  {
   "cell_type": "code",
   "execution_count": null,
   "metadata": {},
   "outputs": [],
   "source": [
    "age = calculate_age(my_profile.get('birth_date'))\n",
    "age"
   ]
  },
  {
   "cell_type": "code",
   "execution_count": null,
   "metadata": {},
   "outputs": [],
   "source": [
    "schools = []\n",
    "my_schools = my_profile.get('schools')\n",
    "for i in range(len(my_schools)):\n",
    "    schools.append(my_schools[i].get('name'))\n",
    "if len(schools):\n",
    "    schools = schools[0]\n",
    "schools"
   ]
  },
  {
   "cell_type": "code",
   "execution_count": null,
   "metadata": {},
   "outputs": [],
   "source": [
    "distance = my_profile.get('distance_mi', 1)\n",
    "distance"
   ]
  },
  {
   "cell_type": "code",
   "execution_count": null,
   "metadata": {},
   "outputs": [],
   "source": [
    "bio = my_profile.get('bio')\n",
    "bio"
   ]
  },
  {
   "cell_type": "code",
   "execution_count": null,
   "metadata": {},
   "outputs": [],
   "source": []
  }
 ],
 "metadata": {
  "kernelspec": {
   "display_name": "Python 3",
   "language": "python",
   "name": "python3"
  },
  "language_info": {
   "codemirror_mode": {
    "name": "ipython",
    "version": 3
   },
   "file_extension": ".py",
   "mimetype": "text/x-python",
   "name": "python",
   "nbconvert_exporter": "python",
   "pygments_lexer": "ipython3",
   "version": "3.7.6"
  }
 },
 "nbformat": 4,
 "nbformat_minor": 2
}

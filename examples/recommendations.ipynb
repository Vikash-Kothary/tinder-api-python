{
 "cells": [
  {
   "cell_type": "markdown",
   "metadata": {},
   "source": [
    "# Example: Get recommendations"
   ]
  },
  {
   "cell_type": "code",
   "execution_count": null,
   "metadata": {},
   "outputs": [],
   "source": [
    "from datetime import date\n",
    "from IPython.display import Image, display\n",
    "import project_path\n",
    "import tinder_api"
   ]
  },
  {
   "cell_type": "code",
   "execution_count": null,
   "metadata": {},
   "outputs": [],
   "source": [
    "def calculate_age(birthday_string):\n",
    "    '''\n",
    "    Converts from '1997-03-25T22:49:41.151Z' to an integer (age)\n",
    "    '''\n",
    "    birthyear = int(birthday_string[:4])\n",
    "    birthmonth = int(birthday_string[5:7])\n",
    "    birthday = int(birthday_string[8:10])\n",
    "    today = date.today()\n",
    "    return today.year - birthyear - ((today.month, today.day) < (birthmonth, birthday))"
   ]
  },
  {
   "cell_type": "code",
   "execution_count": null,
   "metadata": {},
   "outputs": [],
   "source": [
    "username = ''\n",
    "password = ''"
   ]
  },
  {
   "cell_type": "code",
   "execution_count": null,
   "metadata": {},
   "outputs": [],
   "source": [
    "tinder = tinder_api.Client(username=username, password=password)"
   ]
  },
  {
   "cell_type": "code",
   "execution_count": null,
   "metadata": {},
   "outputs": [],
   "source": [
    "recommendations = tinder.get_recs().get('data').get('results')\n",
    "recommendations"
   ]
  },
  {
   "cell_type": "code",
   "execution_count": null,
   "metadata": {},
   "outputs": [],
   "source": [
    "# Store users\n",
    "recommended_users = []\n",
    "for i in range(len(recommendations)):\n",
    "    user = recommendations[i].get('user')\n",
    "    recommended_users.append(user)"
   ]
  },
  {
   "cell_type": "code",
   "execution_count": null,
   "metadata": {},
   "outputs": [],
   "source": [
    "# Get user ids\n",
    "ids = []\n",
    "for i in range(len(recommended_users)):\n",
    "    user_id = recommended_users[i].get('_id')\n",
    "    ids.append(user_id)\n",
    "ids"
   ]
  },
  {
   "cell_type": "code",
   "execution_count": null,
   "metadata": {},
   "outputs": [],
   "source": [
    "user_num=0"
   ]
  },
  {
   "cell_type": "code",
   "execution_count": null,
   "metadata": {},
   "outputs": [],
   "source": [
    "#user = recommended_users[user_num]\n",
    "# Or get using ids above\n",
    "# user_id = ids[user_num]\n",
    "user_id = '5bd900d5d29f540b0512b67d'\n",
    "user = tinder.get_person(user_id).get('results')"
   ]
  },
  {
   "cell_type": "code",
   "execution_count": null,
   "metadata": {},
   "outputs": [],
   "source": [
    "# Get a user photos w/ success rates\n",
    "photos = []\n",
    "user_photos = user.get('photos')\n",
    "for i in range(len(user_photos)):\n",
    "    photo_url = user_photos[i].get('processedFiles')[0].get('url')\n",
    "    success_rate = user_photos[i].get('successRate')\n",
    "    photos.append([photo_url, success_rate])"
   ]
  },
  {
   "cell_type": "code",
   "execution_count": null,
   "metadata": {},
   "outputs": [],
   "source": [
    "# Display images\n",
    "images = []\n",
    "for i in range(len(photos)):\n",
    "    images.append(Image(url=photos[i][0]))\n",
    "display(*images)"
   ]
  },
  {
   "cell_type": "code",
   "execution_count": null,
   "metadata": {},
   "outputs": [],
   "source": [
    "user_id"
   ]
  },
  {
   "cell_type": "code",
   "execution_count": null,
   "metadata": {},
   "outputs": [],
   "source": [
    "user.get('bio')"
   ]
  },
  {
   "cell_type": "code",
   "execution_count": null,
   "metadata": {},
   "outputs": [],
   "source": [
    "name = user.get('name')\n",
    "name"
   ]
  },
  {
   "cell_type": "code",
   "execution_count": null,
   "metadata": {},
   "outputs": [],
   "source": [
    "user.get('schools')"
   ]
  },
  {
   "cell_type": "code",
   "execution_count": null,
   "metadata": {},
   "outputs": [],
   "source": [
    "user.get('jobs')"
   ]
  },
  {
   "cell_type": "code",
   "execution_count": null,
   "metadata": {},
   "outputs": [],
   "source": [
    "DOB = user.get('birth_date')\n",
    "print(DOB)\n",
    "calculate_age(DOB)"
   ]
  },
  {
   "cell_type": "code",
   "execution_count": null,
   "metadata": {},
   "outputs": [],
   "source": [
    "success_rate = []\n",
    "for i in range(len(photos)):\n",
    "    photo_success = photos[i][1]\n",
    "    success_rate.append(photo_success)\n",
    "success_rate"
   ]
  },
  {
   "cell_type": "code",
   "execution_count": null,
   "metadata": {},
   "outputs": [],
   "source": [
    "# Response\n",
    "# tinder.superlike(usrID)\n",
    "# tinder.like(usrID)\n",
    "# tinder.dislike(usrID)"
   ]
  },
  {
   "cell_type": "code",
   "execution_count": null,
   "metadata": {},
   "outputs": [],
   "source": []
  }
 ],
 "metadata": {
  "kernelspec": {
   "display_name": "Python 3",
   "language": "python",
   "name": "python3"
  },
  "language_info": {
   "codemirror_mode": {
    "name": "ipython",
    "version": 3
   },
   "file_extension": ".py",
   "mimetype": "text/x-python",
   "name": "python",
   "nbconvert_exporter": "python",
   "pygments_lexer": "ipython3",
   "version": "3.7.6"
  }
 },
 "nbformat": 4,
 "nbformat_minor": 2
}
